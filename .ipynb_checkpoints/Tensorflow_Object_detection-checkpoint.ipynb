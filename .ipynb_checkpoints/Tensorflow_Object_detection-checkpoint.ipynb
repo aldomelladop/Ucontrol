{
 "cells": [
  {
   "cell_type": "markdown",
   "metadata": {},
   "source": [
    "# **Tensorflow y librerías**"
   ]
  },
  {
   "cell_type": "markdown",
   "metadata": {},
   "source": [
    "Todos estos pasos están en más y mejor detalle explicados en el tutorial de : [Installation.md](https://github.com/tensorflow/models/blob/master/research/object_detection/g3doc/installation.md)"
   ]
  },
  {
   "cell_type": "markdown",
   "metadata": {},
   "source": [
    "### Dependencias"
   ]
  },
  {
   "cell_type": "markdown",
   "metadata": {},
   "source": [
    "Para la instalación son requeridas las siguientes dependencias"
   ]
  },
  {
   "cell_type": "markdown",
   "metadata": {},
   "source": [
    "* Protobuf 3.0.0\n",
    "* Python-tk\n",
    "* Pillow 1.0\n",
    "* lxml\n",
    "* tf Slim (which is included in the \"tensorflow/models/research/\" checkout)\n",
    "* Jupyter notebook\n",
    "* Matplotlib\n",
    "* Tensorflow (>=1.12.0)\n",
    "* Cython\n",
    "* contextlib2\n",
    "* cocoapi\n",
    "\n",
    "Para más detalles sobre la instalación revisar: [Instrucciones instalación Tensorflow](https://www.tensorflow.org/install/)"
   ]
  },
  {
   "cell_type": "markdown",
   "metadata": {},
   "source": [
    "Lo primero y principal es instalar Tensorflow, para ello se encuentran disponibles dos tipos de instalación"
   ]
  },
  {
   "cell_type": "raw",
   "metadata": {},
   "source": [
    "# For CPU\n",
    "pip install tensorflow\n",
    "# For GPU\n",
    "pip install tensorflow-gpu"
   ]
  },
  {
   "cell_type": "markdown",
   "metadata": {},
   "source": [
    "Dado que la versión que está instalada en la Instancia de Gcloud tiene instalado:\n",
    "\n",
    "* CUDA Toolkit 9.0\n",
    "* CUDNN 7.0.5 for CUDA 9.0\n",
    "* python\n",
    "\n",
    "Y que se instalaron los siguientes paquetes y librerías:\n",
    "    \n",
    "* Anaconda\n",
    "* Virtualenv\n",
    "* Native python"
   ]
  },
  {
   "cell_type": "markdown",
   "metadata": {},
   "source": [
    "# **Object Detection**"
   ]
  },
  {
   "cell_type": "markdown",
   "metadata": {},
   "source": [
    "## **Object Detection API**"
   ]
  },
  {
   "cell_type": "markdown",
   "metadata": {},
   "source": [
    "Las librerías necesarias para instalar son:"
   ]
  },
  {
   "cell_type": "markdown",
   "metadata": {},
   "source": [
    "sudo apt-get install protobuf-compiler python-pil python-lxml python-tk\n",
    "pip install --user Cython\n",
    "pip install --user contextlib2\n",
    "pip install --user jupyter\n",
    "pip install --user matplotlib"
   ]
  },
  {
   "cell_type": "markdown",
   "metadata": {},
   "source": [
    "## **Instalación COCO API**"
   ]
  },
  {
   "cell_type": "raw",
   "metadata": {},
   "source": [
    "git clone https://github.com/cocodataset/cocoapi.git\n",
    "cd cocoapi/PythonAPI\n",
    "make\n",
    "cp -r pycocotools <path_to_tensorflow>/models/research/"
   ]
  },
  {
   "cell_type": "markdown",
   "metadata": {},
   "source": [
    "## **Compilador Protobuf** \n",
    "\n",
    "La API de Detección de Objetos de Tensorflow usa Potobufs para configurar el modelo y los parámetros de entrenamiento. Antes de poder usar el framework, las librerías de Protobuf deben estar compiladas. Esto puede hacerse corriendo el siguiente comando en el directorio"
   ]
  },
  {
   "cell_type": "code",
   "execution_count": null,
   "metadata": {},
   "outputs": [],
   "source": [
    "# $HOME/< directorio del modelo >/models/research\n",
    "protoc object_detection/protos/*.proto --python_out=."
   ]
  },
  {
   "cell_type": "markdown",
   "metadata": {},
   "source": [
    "## **Añadior librerias a PYTHONPATH**"
   ]
  },
  {
   "cell_type": "markdown",
   "metadata": {},
   "source": [
    "Si quieres correr **object detection** desde cualquier directorio, lo que necesitas es añadir el directorio a tu ```~/.bashrc``` file"
   ]
  },
  {
   "cell_type": "code",
   "execution_count": null,
   "metadata": {},
   "outputs": [],
   "source": [
    "# From tensorflow/models/research/\n",
    "export PYTHONPATH=$PYTHONPATH:`pwd`:`pwd`/slim\n",
    "export PYTHONPATH=$PYTHONPATH:`pwd`:`pwd`/object_detection"
   ]
  },
  {
   "cell_type": "markdown",
   "metadata": {},
   "source": [
    "### **Comprobar instalación**"
   ]
  },
  {
   "cell_type": "raw",
   "metadata": {},
   "source": [
    "python object_detection/builders/model_builder_test.py"
   ]
  },
  {
   "cell_type": "code",
   "execution_count": null,
   "metadata": {},
   "outputs": [],
   "source": []
  }
 ],
 "metadata": {
  "kernelspec": {
   "display_name": "Python 3",
   "language": "python",
   "name": "python3"
  },
  "language_info": {
   "codemirror_mode": {
    "name": "ipython",
    "version": 3
   },
   "file_extension": ".py",
   "mimetype": "text/x-python",
   "name": "python",
   "nbconvert_exporter": "python",
   "pygments_lexer": "ipython3",
   "version": "3.7.3"
  }
 },
 "nbformat": 4,
 "nbformat_minor": 2
}
